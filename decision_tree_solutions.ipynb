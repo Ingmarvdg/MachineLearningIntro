{
  "cells": [
    {
      "cell_type": "markdown",
      "metadata": {
        "id": "t32lxJ0myPmf"
      },
      "source": [
        "# Introductie\n",
        "\n",
        "In dit notebook leer je stap voor stap hoe je een decision tree kan implementeren. Er zijn een hoop manieren, maar we kijken vandaag naar een implementatie van Jason Brownlee, schrijver van o.a. Python en Deep Learning boeken.\n",
        "\n",
        "We gebruiken de Titanic dataset, en ons doel is om te voorspellen of een persoon de ramp heeft overleefd op basis van een aantal eigenschappen.\n",
        "\n",
        "We doen de implementatie op basis van numpy, een python package voor razendsnelle berekeningen."
      ]
    },
    {
      "cell_type": "code",
      "execution_count": 3,
      "metadata": {
        "colab": {
          "base_uri": "https://localhost:8080/"
        },
        "id": "sbJejgUM_5cj",
        "outputId": "8f251af5-f60f-4b06-c8d4-ee836c4968c7"
      },
      "outputs": [
        {
          "name": "stdout",
          "output_type": "stream",
          "text": [
            "Index(['pclass', 'sex', 'age', 'deck', 'alone', 'survived'], dtype='object')\n"
          ]
        }
      ],
      "source": [
        "# dit zijn alle imports en voorbereiding van de dataset, hier hoef je niks aan te veranderen.\n",
        "\n",
        "import seaborn as sns\n",
        "from random import seed\n",
        "from random import randrange\n",
        "from csv import reader\n",
        "import numpy as np\n",
        "\n",
        "columns = [\"pclass\", \"sex\", \"age\", \"deck\", \"alone\", \"survived\"]\n",
        "\n",
        "df = sns.load_dataset('titanic')[columns]\n",
        "df[\"age\"] = df[\"age\"].fillna(np.mean(df[\"age\"])).astype(int)\n",
        "df[\"deck\"] = df[\"deck\"].astype(str).replace(\"nan\", \"O\")\n",
        "df[\"pclass\"] = df[\"pclass\"].astype(str).replace(\"nan\", \"O\")\n",
        "\n",
        "print(df.columns)\n",
        "train = df[:-200].values\n",
        "test = df[-200:].values"
      ]
    },
    {
      "cell_type": "markdown",
      "metadata": {
        "id": "NzfvnAaEzWg_"
      },
      "source": [
        "# Gini Index\n",
        "\n",
        "Als eerste hebben we een metric nodig die aangeeft hoe goed een split in de decision tree is. We gebruiken hiervoor de gini index. Hier is p1 de kans op class 1, en p2 de kans op class 2.\n",
        "\n",
        "$$\n",
        "1 – (p₁)² – (p₂)²\n",
        "$$\n",
        "\n",
        "\n",
        "We kunnen dit als volgt implementeren:\n",
        "\n",
        "1. bereken voor elke class het percentage hoevaak deze voorkomt.\n",
        "2. doe elk percentage in het kwadraat en tel dit bij elkaar op.\n",
        "\n",
        "BONUS: bedenk een implementatie die niet voor 2 classes, maar voor *n* classes werkt."
      ]
    },
    {
      "cell_type": "code",
      "execution_count": 6,
      "metadata": {
        "colab": {
          "base_uri": "https://localhost:8080/"
        },
        "id": "ia3OoPpD2Bkn",
        "outputId": "c15e2535-4832-40c6-b216-06873e49423f"
      },
      "outputs": [
        {
          "ename": "NameError",
          "evalue": "name 'pytest' is not defined",
          "output_type": "error",
          "traceback": [
            "\u001b[1;31m---------------------------------------------------------------------------\u001b[0m",
            "\u001b[1;31mNameError\u001b[0m                                 Traceback (most recent call last)",
            "\u001b[1;32mc:\\Users\\ingmar\\Projects\\MachineLearningIntro\\decision_tree_solutions.ipynb Cell 4\u001b[0m line \u001b[0;36m<cell line: 11>\u001b[1;34m()\u001b[0m\n\u001b[0;32m      <a href='vscode-notebook-cell:/c%3A/Users/ingmar/Projects/MachineLearningIntro/decision_tree_solutions.ipynb#W3sZmlsZQ%3D%3D?line=6'>7</a>\u001b[0m   pi \u001b[39m=\u001b[39m \u001b[39msum\u001b[39m([percentage \u001b[39m*\u001b[39m\u001b[39m*\u001b[39m \u001b[39m2\u001b[39m \u001b[39mfor\u001b[39;00m percentage \u001b[39min\u001b[39;00m p])\n\u001b[0;32m      <a href='vscode-notebook-cell:/c%3A/Users/ingmar/Projects/MachineLearningIntro/decision_tree_solutions.ipynb#W3sZmlsZQ%3D%3D?line=8'>9</a>\u001b[0m   \u001b[39mreturn\u001b[39;00m \u001b[39m1\u001b[39m \u001b[39m-\u001b[39m pi \u001b[39m# lager is beter\u001b[39;00m\n\u001b[1;32m---> <a href='vscode-notebook-cell:/c%3A/Users/ingmar/Projects/MachineLearningIntro/decision_tree_solutions.ipynb#W3sZmlsZQ%3D%3D?line=10'>11</a>\u001b[0m \u001b[39massert\u001b[39;00m pytest\u001b[39m.\u001b[39mapprox(gini_index(train[:,\u001b[39m-\u001b[39m\u001b[39m1\u001b[39m]), \u001b[39m0.1\u001b[39m) \u001b[39m==\u001b[39m \u001b[39m0.47\u001b[39m\n",
            "\u001b[1;31mNameError\u001b[0m: name 'pytest' is not defined"
          ]
        }
      ],
      "source": [
        "def gini_index(labels):\n",
        "\n",
        "  # bereken het percentage hoevaak elke class voorkomt in data\n",
        "  p = [np.count_nonzero(labels == item) / len(labels) for item in set(labels)]  # bevat een lijst met een percentage voor elke class.\n",
        "\n",
        "  # doe elk percentage in het kwadraat en tel dit allemaal bij elkaar op.\n",
        "  pi = sum([percentage ** 2 for percentage in p])\n",
        "\n",
        "  return 1 - pi # lager is beter\n",
        "\n",
        "# checkt of je uitkomst goed is.\n",
        "assert pytest.approx(gini_index(train[:,-1]), 0.1) == 0.47"
      ]
    },
    {
      "cell_type": "markdown",
      "metadata": {
        "id": "m9aKtg5I3PJs"
      },
      "source": [
        "# Weighted Gini Index\n",
        "\n",
        "We kunnen de data splitsen in twee groepen door een eigenschap te kiezen en een waarde van die eigenschap. Bijvoorbeeld 'geslacht = man' of 'leeftijd < 18'.\n",
        "\n",
        "Als je in 1 groep alle overlevenden hebt, en in de andere alle niet overlevenden heb je volgens de gini index een perfecte score van 0. Als je split nog steeds willekeurig is dan heb je een score van 0.5 (in het geval van een binair probleem).\n",
        "\n",
        "We willen nu niet de gini index van een split weten, maar de gewogen gini index van twee splits.\n",
        "\n",
        "Dit kunnen we als volgt doen:\n",
        "1. Bereken de gini index voor beide groepen.\n",
        "2. Bereken de relatieve grootte voor beide groepen (als je een groep van 4 en een groep van 16 hebt, is het 0.2 en 0.8).\n",
        "3. Vermenigvuldig de gini index met de relatieve grootte en tel deze bij elkaar op.\n",
        "\n",
        "BONUS: voeg iets toe dat voorkomt dat we per ongeluk door 0 delen. Als een groep leeg is geef dan een perfecte score."
      ]
    },
    {
      "cell_type": "code",
      "execution_count": 13,
      "metadata": {
        "colab": {
          "base_uri": "https://localhost:8080/"
        },
        "id": "M-KIMirP_5c4",
        "outputId": "620b2579-1880-42b7-9670-5e59f0a18541"
      },
      "outputs": [],
      "source": [
        "def weighted_gini_index(group_a, group_b):\n",
        "  n_instances = len(group_a) + len(group_b)\n",
        "\n",
        "  gini = 0.0\n",
        "  for group in (group_a, group_b):\n",
        "    gini += gini_index(group) * (len(group) / n_instances)\n",
        "\n",
        "  return gini"
      ]
    },
    {
      "cell_type": "markdown",
      "metadata": {
        "id": "uWpsdrTq5sno"
      },
      "source": [
        "# Een split maken\n",
        "\n",
        "Het splitsen van data doen we op basis van een eigenschap en een waarde van die eigenschap. We hebben numerieke eigenschappen (leeftijd) en categorieen (geslacht).\n",
        "\n",
        "Implementeer eerst een stukje code voor numerieke eigenschappen. De data die lager is dan de opgegeven waarde moet naar links, en hoger naar rechts."
      ]
    },
    {
      "cell_type": "code",
      "execution_count": 16,
      "metadata": {
        "colab": {
          "base_uri": "https://localhost:8080/"
        },
        "id": "nUNpKPqN_5c6",
        "outputId": "191a70bd-b48f-4904-b8bb-184af8f6595d"
      },
      "outputs": [
        {
          "name": "stdout",
          "output_type": "stream",
          "text": [
            "8\n"
          ]
        }
      ],
      "source": [
        "def test_split(data, feature_index, value):\n",
        "  mask = data[:,feature_index] < value\n",
        "\n",
        "  return data[mask], data[~mask]\n",
        "\n",
        "\n",
        "assert len(test_split(train[:10], 2, 20)[1]) == 8"
      ]
    },
    {
      "cell_type": "markdown",
      "metadata": {
        "id": "TK6h5h6D-5-U"
      },
      "source": [
        "Upgrade nu datzelfde stukje code. Als het type van value een string is, dan moet de data die die value heeft naar links, en de rest naar rechts."
      ]
    },
    {
      "cell_type": "code",
      "execution_count": 18,
      "metadata": {
        "colab": {
          "base_uri": "https://localhost:8080/"
        },
        "id": "udfLwxQO_Jsn",
        "outputId": "c3337154-2cd2-4418-cfc5-0acfcfd4fe7e"
      },
      "outputs": [],
      "source": [
        "def test_split(data, feature_index, value):\n",
        "  if type(value) is str:\n",
        "    mask = data[:,feature_index] == value\n",
        "  else:\n",
        "    mask = data[:,feature_index] < value\n",
        "\n",
        "\n",
        "  return data[mask], data[~mask]\n",
        "\n",
        "assert len(test_split(train[:10], 1, \"female\")[1]) == 5"
      ]
    },
    {
      "cell_type": "markdown",
      "metadata": {
        "id": "P-wBYxxN_iwQ"
      },
      "source": [
        "# De beste split vinden\n",
        "\n",
        "Hierboven hebben we alle ingredienten voorbereid om de beste split te vinden. We moeten voor de hele dataset elke mogelijke split identificeren, deze evalueren, en uiteindelijk de beste opslaan.\n",
        "\n",
        "Efficient? Nee. Effectief? Ja.\n",
        "\n",
        "Een split representeren we als een dictionary met de volgende keys:\n",
        "1. de index van de feature.\n",
        "2. de waarde waar we gaan splitsen.\n",
        "3. de groepen na de split.\n",
        "\n",
        "Implementeer hieronder de get split functie. Ik heb hieronder het algoritme omschreven:\n",
        "\n",
        "```\n",
        "Voor elke feature:\n",
        "  Identificeer elke mogelijke split optie.\n",
        "  Voor elke split optie:\n",
        "    Maak een split.\n",
        "    Bereken de weighted gini.\n",
        "    Als de gini score de beste tot nu toe is:\n",
        "      Sla de waardes voor de split op.\n",
        "      Continue loop\n",
        "```\n",
        "\n",
        "\n"
      ]
    },
    {
      "cell_type": "code",
      "execution_count": 23,
      "metadata": {
        "colab": {
          "base_uri": "https://localhost:8080/"
        },
        "id": "mNT4ZrOQ_5c7",
        "outputId": "a8443035-192b-44a3-ab3f-f1efc22b55d6"
      },
      "outputs": [],
      "source": [
        "def get_split(dataset):\n",
        "  best_score = 999\n",
        "  best_value = None\n",
        "  best_index = None\n",
        "  best_groups = None\n",
        "\n",
        "  for i in range(0, dataset.shape[1] -1):\n",
        "    options = np.unique(dataset[:,i])\n",
        "    for val in options:\n",
        "      a, b = test_split(dataset, i, val)\n",
        "      gini = weighted_gini_index(a[:,-1], b[:,-1])\n",
        "\n",
        "      if gini < best_score:\n",
        "        best_score = gini\n",
        "        best_value = val\n",
        "        best_index = i\n",
        "        best_groups = a, b\n",
        "\n",
        "  return {'feature_index': best_index, 'value': best_value, 'groups': best_groups, 'gini': best_score}\n",
        "\n",
        "\n",
        "assert type(get_split(train[:10])[\"groups\"][0]) is np.ndarray\n",
        "assert type(get_split(train[:10])[\"groups\"][1]) is np.ndarray\n",
        "assert get_split(train[:10])[\"feature_index\"] == 1\n",
        "assert get_split(train[:10])[\"value\"] == \"female\"\n",
        "assert get_split(train[:10])[\"gini\"] == 0.0"
      ]
    },
    {
      "cell_type": "markdown",
      "metadata": {
        "id": "KH_N3XcsEjv7"
      },
      "source": [
        "# De decision tree\n",
        "\n",
        "Het is ons net gelukt om onze eerste split te doen, nu gewoon dit herhalen toch?\n",
        "\n",
        "Om dit te blijven herhalen tot we klaar zijn hebben we een recursief algoritme nodig, dit is in essentie een functie die zichzelf aanroept tot het doel is bereikt.\n",
        "\n",
        "We hebben ons doel bereikt als we geen verdere split meer kan maken. Dit kan om twee redenen:\n",
        "1. Als er minder dan twee datapunten zijn.\n",
        "2. De hele dataset hoort bij een enkele class (gini score van 0).\n",
        "\n",
        "Als we dit doel hebben bereikt willen we een 'leaf node' maken die aangeeft welke class moet worden gekozen.\n"
      ]
    },
    {
      "cell_type": "markdown",
      "metadata": {
        "id": "kGar1DjhHG-p"
      },
      "source": [
        "We weten nu wanneer we moeten stoppen en wat we dan moeten doen, dus laten we onze 'to leaf' functie implementeren.\n",
        "\n",
        "De 'to leaf' functie moet de meest voorkomende class in de dataset teruggeven.\n",
        "\n",
        "Houd in je achterhoofd dat in de dataset de laatste kolom de class bevat."
      ]
    },
    {
      "cell_type": "code",
      "execution_count": 24,
      "metadata": {
        "colab": {
          "base_uri": "https://localhost:8080/"
        },
        "id": "MEQw1kFOEaXl",
        "outputId": "ad04432b-8bf2-43a5-e975-1a18373aaa0b"
      },
      "outputs": [],
      "source": [
        "def to_leaf(dataset):\n",
        "  u, c = np.unique(dataset[:,-1], return_counts=True)\n",
        "  res = u[c.argmax()]\n",
        "  return res\n",
        "\n",
        "assert to_leaf(train[:50]) == 0"
      ]
    },
    {
      "cell_type": "markdown",
      "metadata": {
        "id": "d1RnGzIKGc4P"
      },
      "source": [
        "Laten we nu de 'grow tree' functie schrijven. Dit wordt een recursieve functie, wat dus betekent dat we in de 'grow tree' functie NOG een keer de 'grow tree' functie gaan aanroepen.\n",
        "\n",
        "Het grow tree algoritme moet de volgende stappen gaan nemen:\n",
        "\n",
        "1. Controleer of 1 van de twee datasets in de node leeg is, maak dan een terminal node van beide kanten met de gecombineerde data.\n",
        "2. Als de linker dataset minder dan twee datapunten heeft, maak dan een terminal node van de linker dataset.\n",
        "3.Als de linker dataset twee of meer datapunten heeft, maak dan weer een nieuwe split met 'get_split' en groei op het resultaat je decision tree verder.\n",
        "4. Doe stap 2 en 3 ook voor de rechter dataset.\n",
        "\n",
        "Als de node leeg is kan je stoppen met de recursie, dat doe je met behulp van een lege return (dan stopt de functie)."
      ]
    },
    {
      "cell_type": "markdown",
      "metadata": {
        "id": "xF0H5W-JWd1y"
      },
      "source": [
        "Naast alles wat we hierboven gezegd hebben gaan we ook de diepte van de tree bijhouden. Dit kan heel simpel, elke keer als je 'grow_tree' opnieuw aanroept, geeft dan de huidige diepte + 1 mee. Dit is handig om later de tree te visualiseren."
      ]
    },
    {
      "cell_type": "code",
      "execution_count": 25,
      "metadata": {
        "colab": {
          "base_uri": "https://localhost:8080/"
        },
        "id": "9QafXRFb_5c-",
        "outputId": "06b83e7e-ef5c-40ac-c3b9-7b50140329c1"
      },
      "outputs": [],
      "source": [
        "from token import RIGHTSHIFT\n",
        "# Build a decision tree\n",
        "def grow_tree(node, depth):\n",
        "    left, right = node[\"groups\"]\n",
        "\n",
        "    if len(left) == 0:\n",
        "      node[\"left\"] = node[\"right\"] = to_leaf(right)\n",
        "      return\n",
        "    if len(right) == 0:\n",
        "      node[\"left\"] = node[\"right\"] = to_leaf(left)\n",
        "      return\n",
        "\n",
        "    if len(left) > 2:\n",
        "        node[\"left\"] = get_split(left)\n",
        "        grow_tree(node[\"left\"], depth+1)\n",
        "    else:\n",
        "        node[\"left\"] = to_leaf(left)\n",
        "\n",
        "    if len(right) > 2:\n",
        "        node[\"right\"] = get_split(right)\n",
        "        grow_tree(node[\"right\"], depth+1)\n",
        "    else:\n",
        "        node[\"right\"] = to_leaf(right)\n",
        "\n",
        "node = get_split(train[:10])\n",
        "tree = grow_tree(node, 0)"
      ]
    },
    {
      "cell_type": "markdown",
      "metadata": {
        "id": "mkLzEQOVPzRB"
      },
      "source": [
        "Als het gelukt is zou je onderstaande stukje code moeten kunnen runnen en zou je een grafische weergave van je tree moeten zien."
      ]
    },
    {
      "cell_type": "code",
      "execution_count": 26,
      "metadata": {
        "colab": {
          "base_uri": "https://localhost:8080/"
        },
        "id": "SDifQMMBQMrk",
        "outputId": "e1bcfe7a-5924-4753-87f7-807cab767c71"
      },
      "outputs": [
        {
          "name": "stdout",
          "output_type": "stream",
          "text": [
            " ('sex', 'female')\n",
            "  ('alone', True)\n",
            "   ('deck', 'O')\n",
            "    ('age', 18)\n",
            "     ('pclass', '2')\n",
            "      class:  1\n",
            "      class:  0\n",
            "     ('age', 27)\n",
            "      class:  0\n",
            "      ('pclass', '2')\n",
            "       class:  0\n",
            "       ('age', 31)\n",
            "        class:  1\n",
            "        ('age', 38)\n",
            "         class:  0\n",
            "         class:  0\n",
            "    ('pclass', '1')\n",
            "     ('pclass', '1')\n",
            "      class:  1\n",
            "      class:  1\n",
            "     class:  1\n",
            "   ('age', 15)\n",
            "    class:  0\n",
            "    ('pclass', '1')\n",
            "     class:  1\n",
            "     ('pclass', '2')\n",
            "      class:  1\n",
            "      ('pclass', '3')\n",
            "       class:  1\n",
            "       class:  1\n",
            "  ('deck', 'A')\n",
            "   class:  1\n",
            "   ('deck', 'D')\n",
            "    class:  1\n",
            "    ('pclass', '2')\n",
            "     ('age', 35)\n",
            "      class:  1\n",
            "      class:  0\n",
            "     ('alone', True)\n",
            "      ('pclass', '1')\n",
            "       ('pclass', '1')\n",
            "        class:  0\n",
            "        class:  0\n",
            "       ('pclass', '3')\n",
            "        class:  0\n",
            "        class:  0\n",
            "      ('age', 35)\n",
            "       ('age', 29)\n",
            "        class:  0\n",
            "        ('pclass', '3')\n",
            "         class:  0\n",
            "         class:  0\n",
            "       ('pclass', '1')\n",
            "        class:  0\n",
            "        class:  0\n"
          ]
        }
      ],
      "source": [
        "def decision_tree(train):\n",
        " root = get_split(train)\n",
        " grow_tree(root, depth=0)\n",
        " return root\n",
        "\n",
        "# Print a decision tree\n",
        "def print_tree(node,col_table, depth=1):\n",
        "  if isinstance(node, dict):\n",
        "\n",
        "    col_name = col_table[node['feature_index']]\n",
        "\n",
        "    print(\" \"  * depth + f\"{col_name , node['value']}\")\n",
        "    print_tree(node['left'], col_table, depth+1)\n",
        "    print_tree(node['right'], col_table, depth+1)\n",
        "  else:\n",
        "    print(\" \" * depth + \"class: \", node)\n",
        "\n",
        "tree = decision_tree(train[0:50])\n",
        "print_tree(tree, columns, depth=1)"
      ]
    },
    {
      "cell_type": "markdown",
      "metadata": {
        "id": "2DMugcVeXomT"
      },
      "source": [
        "Als je goed kijkt kan je hier zien dat we heel vaak splits maken die onnodig zijn (namelijk als beide classes hetzelfde zijn). Zie onderaan de bonus opdrachten om hier wat aan te doen.\n",
        "\n",
        "Hier onder staat de code om je gemaakte tree te evalueren, doe je het beter dan een willekeurige gok (50%)?"
      ]
    },
    {
      "cell_type": "code",
      "execution_count": 389,
      "metadata": {
        "colab": {
          "base_uri": "https://localhost:8080/"
        },
        "id": "HsucaRytHsQ9",
        "outputId": "a681d6ab-c666-4d2d-eaf2-c05cc6f9ca5d"
      },
      "outputs": [
        {
          "name": "stdout",
          "output_type": "stream",
          "text": [
            "Je hebt een score van 80.0% behaald, is dat beter dan een willekeurige gok? Dan ben je geslaagd!\n"
          ]
        }
      ],
      "source": [
        "def predict(node, row):\n",
        "  go_left = None\n",
        "  if type(node['value']) is str:\n",
        "    go_left = row[node['feature_index']] == node['value']\n",
        "  else:\n",
        "    go_left = row[node['feature_index']] < node['value']\n",
        "\n",
        "  if go_left:\n",
        "    if isinstance(node['left'], dict):\n",
        "      return predict(node['left'], row)\n",
        "    else:\n",
        "      return node['left']\n",
        "  else:\n",
        "    if isinstance(node['right'], dict):\n",
        "      return predict(node['right'], row)\n",
        "    else:\n",
        "      return node['right']\n",
        "\n",
        "\n",
        "def accuracy_metric(actual, predicted):\n",
        "\tcorrect = 0\n",
        "\tfor i in range(len(actual)):\n",
        "\t\tif actual[i] == predicted[i]:\n",
        "\t\t\tcorrect += 1\n",
        "\treturn correct / float(len(actual)) * 100.0\n",
        "\n",
        "def evaluate_algorithm(tree, test):\n",
        "  actual = list(test[:,-1])\n",
        "  predictions = list()\n",
        "  for row in test:\n",
        "    prediction = predict(tree, row)\n",
        "    predictions.append(prediction)\n",
        "\n",
        "  return accuracy_metric(actual, predictions)\n",
        "\n",
        "\n",
        "tree = decision_tree(train[:300])\n",
        "\n",
        "\n",
        "print(f\"Je hebt een score van {evaluate_algorithm(tree, test)}% behaald, is dat beter dan een willekeurige gok? Dan ben je geslaagd!\")\n"
      ]
    },
    {
      "cell_type": "code",
      "execution_count": null,
      "metadata": {},
      "outputs": [],
      "source": [
        "# code voor tree met max_depth en min_size\n",
        "def grow_tree2(node, max_depth, min_size, depth):\n",
        "    left, right = node[\"groups\"]\n",
        "\n",
        "    if len(left) == 0:\n",
        "      node[\"left\"] = node[\"right\"] = to_leaf(right)\n",
        "      return\n",
        "    if len(right) == 0:\n",
        "      node[\"left\"] = node[\"right\"] = to_leaf(left)\n",
        "      return\n",
        "\n",
        "    # early stopping op depth\n",
        "    if depth >= max_depth:\n",
        "      node[\"left\"] = to_leaf(left)\n",
        "      node[\"right\"] = to_leaf(right)\n",
        "\n",
        "    if len(left) > min_size:\n",
        "        node[\"left\"] = get_split(left)\n",
        "        grow_tree2(node[\"left\"], max_depth, min_size, depth+1)\n",
        "    else:\n",
        "        node[\"left\"] = to_leaf(left)\n",
        "\n",
        "    if len(right) > min_size:\n",
        "        node[\"right\"] = get_split(right)\n",
        "        grow_tree2(node[\"right\"], max_depth, min_size, depth+1)\n",
        "    else:\n",
        "        node[\"right\"] = to_leaf(right)\n",
        "\n",
        "def decision_tree2(train):\n",
        " root = get_split(train)\n",
        " grow_tree2(root, max_depth=2, min_size=10, depth=0)\n",
        " return root"
      ]
    },
    {
      "cell_type": "code",
      "execution_count": null,
      "metadata": {},
      "outputs": [],
      "source": [
        "tree = decision_tree2(train)\n",
        "\n",
        "print(f\"Je hebt een score van {evaluate_algorithm(tree, test)}% behaald, is dat beter dan een willekeurige gok? Dan ben je geslaagd!\")"
      ]
    }
  ],
  "metadata": {
    "colab": {
      "provenance": []
    },
    "kernelspec": {
      "display_name": "base",
      "language": "python",
      "name": "python3"
    },
    "language_info": {
      "codemirror_mode": {
        "name": "ipython",
        "version": 3
      },
      "file_extension": ".py",
      "mimetype": "text/x-python",
      "name": "python",
      "nbconvert_exporter": "python",
      "pygments_lexer": "ipython3",
      "version": "3.9.12"
    },
    "orig_nbformat": 4,
    "vscode": {
      "interpreter": {
        "hash": "c5dfe12ad8e69e0451f3288037ae5ba6de11d0ef3c1ed45324ce0705eef92596"
      }
    }
  },
  "nbformat": 4,
  "nbformat_minor": 0
}
