{
  "cells": [
    {
      "cell_type": "markdown",
      "source": [
        "# Introductie\n",
        "\n",
        "In dit notebook leer je stap voor stap hoe je een decision tree kan implementeren. Er zijn een hoop manieren, maar we kijken vandaag naar een implementatie van Jason Brownlee, schrijver van o.a. Python en Deep Learning boeken.\n",
        "\n",
        "We gebruiken de Titanic dataset, en ons doel is om te voorspellen of een persoon de ramp heeft overleefd op basis van een aantal eigenschappen.\n",
        "\n",
        "We doen de implementatie op basis van numpy, een python package voor razendsnelle berekeningen."
      ],
      "metadata": {
        "id": "t32lxJ0myPmf"
      }
    },
    {
      "cell_type": "code",
      "execution_count": 394,
      "metadata": {
        "id": "sbJejgUM_5cj",
        "outputId": "8f251af5-f60f-4b06-c8d4-ee836c4968c7",
        "colab": {
          "base_uri": "https://localhost:8080/"
        }
      },
      "outputs": [
        {
          "output_type": "stream",
          "name": "stdout",
          "text": [
            "Index(['pclass', 'sex', 'age', 'deck', 'alone', 'survived'], dtype='object')\n"
          ]
        }
      ],
      "source": [
        "# dit zijn alle imports en voorbereiding van de dataset, hier hoef je niks aan te veranderen.\n",
        "\n",
        "import seaborn as sns\n",
        "from random import seed\n",
        "from random import randrange\n",
        "from csv import reader\n",
        "import numpy as np\n",
        "\n",
        "columns = [\"pclass\", \"sex\", \"age\", \"deck\", \"alone\", \"survived\"]\n",
        "\n",
        "df = sns.load_dataset('titanic')[columns]\n",
        "df[\"age\"] = df[\"age\"].fillna(np.mean(df[\"age\"])).astype(int)\n",
        "df[\"deck\"] = df[\"deck\"].astype(str).replace(\"nan\", \"O\")\n",
        "df[\"pclass\"] = df[\"pclass\"].astype(str).replace(\"nan\", \"O\")\n",
        "\n",
        "print(df.columns)\n",
        "train = df[:-100].values\n",
        "test = df[-100:].values"
      ]
    },
    {
      "cell_type": "markdown",
      "source": [
        "# Gini Index\n",
        "\n",
        "Als eerste hebben we een metric nodig die aangeeft hoe goed een split in de decision tree is. We gebruiken hiervoor de gini index. Hier is p1 de kans op class 1, en p2 de kans op class 2.\n",
        "\n",
        "$$\n",
        "1 – (p₁)² – (p₂)²\n",
        "$$\n",
        "\n",
        "\n",
        "We kunnen dit als volgt implementeren:\n",
        "\n",
        "1. bereken voor elke class het percentage hoevaak deze voorkomt.\n",
        "2. doe elk percentage in het kwadraat en tel dit bij elkaar op.\n",
        "\n",
        "BONUS: bedenk een implementatie die niet voor 2 classes, maar voor *n* classes werkt."
      ],
      "metadata": {
        "id": "NzfvnAaEzWg_"
      }
    },
    {
      "cell_type": "code",
      "source": [
        "def gini_index(labels):\n",
        "\n",
        "  # bereken het percentage hoevaak elke class voorkomt in data\n",
        "  p = [np.count_nonzero(labels == item) / len(labels) for item in set(labels)]  # bevat een lijst met een percentage voor elke class.\n",
        "\n",
        "  # doe elk percentage in het kwadraat en tel dit allemaal bij elkaar op.\n",
        "  pi = sum([percentage ** 2 for percentage in p])\n",
        "\n",
        "  return 1 - pi # lager is beter\n",
        "\n",
        "print(gini_index(train[:,-1]))"
      ],
      "metadata": {
        "id": "ia3OoPpD2Bkn",
        "outputId": "c15e2535-4832-40c6-b216-06873e49423f",
        "colab": {
          "base_uri": "https://localhost:8080/"
        }
      },
      "execution_count": 274,
      "outputs": [
        {
          "output_type": "stream",
          "name": "stdout",
          "text": [
            "0.47439509910002053\n"
          ]
        }
      ]
    },
    {
      "cell_type": "markdown",
      "source": [
        "# Weighted Gini Index\n",
        "\n",
        "We kunnen de data splitsen in twee groepen door een eigenschap te kiezen en een waarde van die eigenschap. Bijvoorbeeld 'geslacht = man' of 'leeftijd < 18'.\n",
        "\n",
        "Als je in 1 groep alle overlevenden hebt, en in de andere alle niet overlevenden heb je volgens de gini index een perfecte score van 0. Als je split nog steeds willekeurig is dan heb je een score van 0.5 (in het geval van een binair probleem).\n",
        "\n",
        "We willen nu niet de gini index van een split weten, maar de gewogen gini index van twee splits.\n",
        "\n",
        "Dit kunnen we als volgt doen:\n",
        "1. Bereken de gini index voor beide groepen.\n",
        "2. Bereken de relatieve grootte voor beide groepen (als je een groep van 4 en een groep van 16 hebt, is het 0.2 en 0.8).\n",
        "3. Vermenigvuldig de gini index met de relatieve grootte en tel deze bij elkaar op.\n",
        "\n",
        "BONUS: voeg iets toe dat voorkomt dat we per ongeluk door 0 delen. Als een groep leeg is geef dan een perfecte score."
      ],
      "metadata": {
        "id": "m9aKtg5I3PJs"
      }
    },
    {
      "cell_type": "code",
      "execution_count": 275,
      "metadata": {
        "id": "M-KIMirP_5c4",
        "outputId": "620b2579-1880-42b7-9670-5e59f0a18541",
        "colab": {
          "base_uri": "https://localhost:8080/"
        }
      },
      "outputs": [
        {
          "output_type": "stream",
          "name": "stdout",
          "text": [
            "0.4732095849884808\n"
          ]
        }
      ],
      "source": [
        "def weighted_gini_index(group_a, group_b):\n",
        "  n_instances = len(group_a) + len(group_b)\n",
        "\n",
        "  gini = 0.0\n",
        "  for group in (group_a, group_b):\n",
        "    gini += gini_index(group) * (len(group) / n_instances)\n",
        "\n",
        "  return gini\n",
        "\n",
        "\n",
        "print(weighted_gini_index(train[:200,-1], train[200:, -1]))"
      ]
    },
    {
      "cell_type": "markdown",
      "source": [
        "# Een split maken\n",
        "\n",
        "Het splitsen van data doen we op basis van een eigenschap en een waarde van die eigenschap. We hebben numerieke eigenschappen (leeftijd) en categorieen (geslacht).\n",
        "\n",
        "Implementeer eerst een stukje code voor numerieke eigenschappen. De data die lager is dan de opgegeven waarde moet naar links, en hoger naar rechts."
      ],
      "metadata": {
        "id": "uWpsdrTq5sno"
      }
    },
    {
      "cell_type": "code",
      "execution_count": 276,
      "metadata": {
        "id": "nUNpKPqN_5c6",
        "outputId": "191a70bd-b48f-4904-b8bb-184af8f6595d",
        "colab": {
          "base_uri": "https://localhost:8080/"
        }
      },
      "outputs": [
        {
          "output_type": "stream",
          "name": "stdout",
          "text": [
            "(array([['3', 'male', 2, 'O', False, 0],\n",
            "       ['2', 'female', 14, 'O', False, 1],\n",
            "       ['3', 'female', 4, 'G', False, 1],\n",
            "       ['3', 'female', 14, 'O', True, 0],\n",
            "       ['3', 'male', 2, 'O', False, 0]], dtype=object), array([['3', 'male', 22, 'O', False, 0],\n",
            "       ['1', 'female', 38, 'C', False, 1],\n",
            "       ['3', 'female', 26, 'O', True, 1],\n",
            "       ['1', 'female', 35, 'C', False, 1],\n",
            "       ['3', 'male', 35, 'O', True, 0],\n",
            "       ['3', 'male', 29, 'O', True, 0],\n",
            "       ['1', 'male', 54, 'E', True, 0],\n",
            "       ['3', 'female', 27, 'O', False, 1],\n",
            "       ['1', 'female', 58, 'C', True, 1],\n",
            "       ['3', 'male', 20, 'O', True, 0],\n",
            "       ['3', 'male', 39, 'O', False, 0],\n",
            "       ['2', 'female', 55, 'O', True, 1],\n",
            "       ['2', 'male', 29, 'O', True, 1],\n",
            "       ['3', 'female', 31, 'O', False, 0],\n",
            "       ['3', 'female', 29, 'O', True, 1]], dtype=object))\n"
          ]
        }
      ],
      "source": [
        "def test_split(data, feature_index, value):\n",
        "  mask = data[:,feature_index] < value\n",
        "\n",
        "  return data[mask], data[~mask]\n",
        "\n",
        "print(test_split(train[:20], 2, 20))"
      ]
    },
    {
      "cell_type": "markdown",
      "source": [
        "Upgrade nu datzelfde stukje code. Als het type van value een string is, dan moet de data die die value heeft naar links, en de rest naar rechts."
      ],
      "metadata": {
        "id": "TK6h5h6D-5-U"
      }
    },
    {
      "cell_type": "code",
      "source": [
        "def test_split(data, feature_index, value):\n",
        "  if type(value) is str:\n",
        "    mask = data[:,feature_index] == value\n",
        "  else:\n",
        "    mask = data[:,feature_index] < value\n",
        "\n",
        "\n",
        "  return data[mask], data[~mask]\n",
        "\n",
        "print(test_split(train[:10], 2, 15))\n",
        "print(test_split(train[:10], 1, \"female\"))"
      ],
      "metadata": {
        "id": "udfLwxQO_Jsn",
        "outputId": "c3337154-2cd2-4418-cfc5-0acfcfd4fe7e",
        "colab": {
          "base_uri": "https://localhost:8080/"
        }
      },
      "execution_count": 277,
      "outputs": [
        {
          "output_type": "stream",
          "name": "stdout",
          "text": [
            "(array([['3', 'male', 2, 'O', False, 0],\n",
            "       ['2', 'female', 14, 'O', False, 1]], dtype=object), array([['3', 'male', 22, 'O', False, 0],\n",
            "       ['1', 'female', 38, 'C', False, 1],\n",
            "       ['3', 'female', 26, 'O', True, 1],\n",
            "       ['1', 'female', 35, 'C', False, 1],\n",
            "       ['3', 'male', 35, 'O', True, 0],\n",
            "       ['3', 'male', 29, 'O', True, 0],\n",
            "       ['1', 'male', 54, 'E', True, 0],\n",
            "       ['3', 'female', 27, 'O', False, 1]], dtype=object))\n",
            "(array([['1', 'female', 38, 'C', False, 1],\n",
            "       ['3', 'female', 26, 'O', True, 1],\n",
            "       ['1', 'female', 35, 'C', False, 1],\n",
            "       ['3', 'female', 27, 'O', False, 1],\n",
            "       ['2', 'female', 14, 'O', False, 1]], dtype=object), array([['3', 'male', 22, 'O', False, 0],\n",
            "       ['3', 'male', 35, 'O', True, 0],\n",
            "       ['3', 'male', 29, 'O', True, 0],\n",
            "       ['1', 'male', 54, 'E', True, 0],\n",
            "       ['3', 'male', 2, 'O', False, 0]], dtype=object))\n"
          ]
        }
      ]
    },
    {
      "cell_type": "markdown",
      "source": [
        "# De beste split vinden\n",
        "\n",
        "Hierboven hebben we alle ingredienten voorbereid om de beste split te vinden. We moeten voor de hele dataset elke mogelijke split identificeren, deze evalueren, en uiteindelijk de beste opslaan.\n",
        "\n",
        "Efficient? Nee. Effectief? Ja.\n",
        "\n",
        "Een split representeren we als een dictionary met de volgende keys:\n",
        "1. de index van de feature.\n",
        "2. de waarde waar we gaan splitsen.\n",
        "3. de groepen na de split.\n",
        "\n",
        "Implementeer hieronder de get split functie. Ik heb hieronder het algoritme omschreven:\n",
        "\n",
        "```\n",
        "Voor elke feature:\n",
        "  Identificeer elke mogelijke split optie.\n",
        "  Voor elke split optie:\n",
        "    Maak een split.\n",
        "    Bereken de weighted gini.\n",
        "    Als de gini score de beste tot nu toe is:\n",
        "      Sla de waardes voor de split op.\n",
        "      Continue loop\n",
        "```\n",
        "\n",
        "\n"
      ],
      "metadata": {
        "id": "P-wBYxxN_iwQ"
      }
    },
    {
      "cell_type": "code",
      "execution_count": 332,
      "metadata": {
        "id": "mNT4ZrOQ_5c7",
        "outputId": "a8443035-192b-44a3-ab3f-f1efc22b55d6",
        "colab": {
          "base_uri": "https://localhost:8080/"
        }
      },
      "outputs": [
        {
          "output_type": "execute_result",
          "data": {
            "text/plain": [
              "{'feature_index': 1,\n",
              " 'value': 'female',\n",
              " 'groups': (array([['1', 'female', 38, 'C', False, 1],\n",
              "         ['3', 'female', 26, 'O', True, 1],\n",
              "         ['1', 'female', 35, 'C', False, 1],\n",
              "         ['3', 'female', 27, 'O', False, 1],\n",
              "         ['2', 'female', 14, 'O', False, 1]], dtype=object),\n",
              "  array([['3', 'male', 22, 'O', False, 0],\n",
              "         ['3', 'male', 35, 'O', True, 0],\n",
              "         ['3', 'male', 29, 'O', True, 0],\n",
              "         ['1', 'male', 54, 'E', True, 0],\n",
              "         ['3', 'male', 2, 'O', False, 0]], dtype=object)),\n",
              " 'gini': 0.0}"
            ]
          },
          "metadata": {},
          "execution_count": 332
        }
      ],
      "source": [
        "def get_split(dataset):\n",
        "  best_score = 999\n",
        "  best_value = None\n",
        "  best_index = None\n",
        "  best_groups = None\n",
        "  best_right = None\n",
        "\n",
        "  for i in range(0, dataset.shape[1] -1):\n",
        "    options = np.unique(dataset[:,i])\n",
        "    for val in options:\n",
        "      a, b = test_split(dataset, i, val)\n",
        "      gini = weighted_gini_index(a[:,-1], b[:,-1])\n",
        "\n",
        "      if gini < best_score:\n",
        "        best_score = gini\n",
        "        best_value = val\n",
        "        best_index = i\n",
        "        best_groups = a, b\n",
        "\n",
        "  return {'feature_index': best_index, 'value': best_value, 'groups': best_groups, 'gini': best_score}\n",
        "\n",
        "get_split(train[:10])"
      ]
    },
    {
      "cell_type": "markdown",
      "source": [
        "# De decision tree\n",
        "\n",
        "Het is ons net gelukt om onze eerste split te doen, nu gewoon dit herhalen toch?\n",
        "\n",
        "Om dit te blijven herhalen tot we klaar zijn hebben we een recursief algoritme nodig, dit is in essentie een functie die zichzelf aanroept tot het doel is bereikt.\n",
        "\n",
        "We hebben ons doel bereikt als we geen verdere split meer kan maken. Dit kan om twee redenen:\n",
        "1. Als er minder dan twee datapunten zijn.\n",
        "2. De hele dataset hoort bij een enkele class (gini score van 0).\n",
        "\n",
        "Als we dit doel hebben bereikt willen we een 'leaf node' maken die aangeeft welke class moet worden gekozen.\n"
      ],
      "metadata": {
        "id": "KH_N3XcsEjv7"
      }
    },
    {
      "cell_type": "markdown",
      "source": [
        "We weten nu wanneer we moeten stoppen en wat we dan moeten doen, dus laten we onze 'to leaf' functie implementeren.\n",
        "\n",
        "De 'to leaf' functie moet de meest voorkomende class in de dataset teruggeven.\n",
        "\n",
        "Houd in je achterhoofd dat in de dataset de laatste kolom de class bevat."
      ],
      "metadata": {
        "id": "kGar1DjhHG-p"
      }
    },
    {
      "cell_type": "code",
      "source": [
        "def to_leaf(dataset):\n",
        "  u, c = np.unique(dataset[:,-1], return_counts=True)\n",
        "  res = u[c.argmax()]\n",
        "  return res\n",
        "\n",
        "print(to_leaf(train[:50]))"
      ],
      "metadata": {
        "id": "MEQw1kFOEaXl",
        "outputId": "ad04432b-8bf2-43a5-e975-1a18373aaa0b",
        "colab": {
          "base_uri": "https://localhost:8080/"
        }
      },
      "execution_count": 358,
      "outputs": [
        {
          "output_type": "stream",
          "name": "stdout",
          "text": [
            "0\n"
          ]
        }
      ]
    },
    {
      "cell_type": "markdown",
      "source": [
        "Laten we nu de 'grow tree' functie schrijven. Dit wordt een recursieve functie, wat dus betekent dat we in de 'grow tree' functie NOG een keer de 'grow tree' functie gaan aanroepen.\n",
        "\n",
        "Het grow tree algoritme moet de volgende stappen gaan nemen:\n",
        "\n",
        "1. Controleer of 1 van de twee datasets in de node leeg is, maak dan een terminal node van beide kanten met de gecombineerde data.\n",
        "2. Als de linker dataset minder dan twee datapunten heeft, maak dan een terminal node van de linker dataset.\n",
        "3.Als de linker dataset twee of meer datapunten heeft, maak dan weer een nieuwe split met 'get_split' en groei op het resultaat je decision tree verder.\n",
        "4. Doe stap 2 en 3 ook voor de rechter dataset.\n",
        "\n",
        "Als de node leeg is kan je stoppen met de recursie, dat doe je met behulp van een lege return (dan stopt de functie)."
      ],
      "metadata": {
        "id": "d1RnGzIKGc4P"
      }
    },
    {
      "cell_type": "markdown",
      "source": [
        "Naast alles wat we hierboven gezegd hebben gaan we ook de diepte van de tree bijhouden. Dit kan heel simpel, elke keer als je 'grow_tree' opnieuw aanroept, geeft dan de huidige diepte + 1 mee. Dit is handig om later de tree te visualiseren."
      ],
      "metadata": {
        "id": "xF0H5W-JWd1y"
      }
    },
    {
      "cell_type": "code",
      "execution_count": 384,
      "metadata": {
        "id": "9QafXRFb_5c-",
        "outputId": "06b83e7e-ef5c-40ac-c3b9-7b50140329c1",
        "colab": {
          "base_uri": "https://localhost:8080/"
        }
      },
      "outputs": [
        {
          "output_type": "stream",
          "name": "stdout",
          "text": [
            "None\n"
          ]
        }
      ],
      "source": [
        "from token import RIGHTSHIFT\n",
        "# Build a decision tree\n",
        "def grow_tree(node, depth):\n",
        "    left, right = node[\"groups\"]\n",
        "\n",
        "    if len(left) == 0:\n",
        "      node[\"left\"] = node[\"right\"] = to_leaf(right)\n",
        "      return\n",
        "    if len(right) == 0:\n",
        "      node[\"left\"] = node[\"right\"] = to_leaf(left)\n",
        "      return\n",
        "\n",
        "    if len(left) > 2:\n",
        "        node[\"left\"] = get_split(left)\n",
        "        grow_tree(node[\"left\"], depth+1)\n",
        "    else:\n",
        "        node[\"left\"] = to_leaf(left)\n",
        "\n",
        "    if len(right) > 2:\n",
        "        node[\"right\"] = get_split(right)\n",
        "        grow_tree(node[\"right\"], depth+1)\n",
        "    else:\n",
        "        node[\"right\"] = to_leaf(right)\n",
        "\n",
        "node = get_split(train[:10])\n",
        "tree = grow_tree(node, 0)\n",
        "print(tree)"
      ]
    },
    {
      "cell_type": "markdown",
      "source": [
        "Het is je gelukt! Je decision tree kan nu naar hartelust groeien. Onderstaande code roept je algoritme aan op de test set om te kijken hoe accuraat je modelletje is. Je kan ook (ongeveer) zien hoe de tree in elkaar zit."
      ],
      "metadata": {
        "id": "mkLzEQOVPzRB"
      }
    },
    {
      "cell_type": "code",
      "source": [
        "def decision_tree(train):\n",
        " root = get_split(train)\n",
        " grow_tree(root, depth=0)\n",
        " return root\n",
        "\n",
        "# Print a decision tree\n",
        "def print_tree(node,col_table, depth=1):\n",
        "  if isinstance(node, dict):\n",
        "\n",
        "    col_name = col_table[node['feature_index']]\n",
        "\n",
        "    print(\" \"  * depth + f\"{col_name , node['value']}\")\n",
        "    print_tree(node['left'], col_table, depth+1)\n",
        "    print_tree(node['right'], col_table, depth+1)\n",
        "  else:\n",
        "    print(\" \" * depth + \"class: \", node)\n",
        "\n",
        "tree = decision_tree(train[0:50])\n",
        "print_tree(tree, columns, depth=1)"
      ],
      "metadata": {
        "id": "SDifQMMBQMrk",
        "outputId": "e1bcfe7a-5924-4753-87f7-807cab767c71",
        "colab": {
          "base_uri": "https://localhost:8080/"
        }
      },
      "execution_count": 393,
      "outputs": [
        {
          "output_type": "stream",
          "name": "stdout",
          "text": [
            " ('sex', 'female')\n",
            "  ('alone', True)\n",
            "   ('deck', 'O')\n",
            "    ('age', 18)\n",
            "     ('pclass', '2')\n",
            "      class:  1\n",
            "      class:  0\n",
            "     ('age', 27)\n",
            "      class:  0\n",
            "      ('pclass', '2')\n",
            "       class:  0\n",
            "       ('age', 31)\n",
            "        class:  1\n",
            "        ('age', 38)\n",
            "         class:  0\n",
            "         class:  0\n",
            "    ('pclass', '1')\n",
            "     ('pclass', '1')\n",
            "      class:  1\n",
            "      class:  1\n",
            "     class:  1\n",
            "   ('age', 15)\n",
            "    class:  0\n",
            "    ('pclass', '1')\n",
            "     class:  1\n",
            "     ('pclass', '2')\n",
            "      class:  1\n",
            "      ('pclass', '3')\n",
            "       class:  1\n",
            "       class:  1\n",
            "  ('deck', 'A')\n",
            "   class:  1\n",
            "   ('deck', 'D')\n",
            "    class:  1\n",
            "    ('pclass', '2')\n",
            "     ('age', 35)\n",
            "      class:  1\n",
            "      class:  0\n",
            "     ('alone', True)\n",
            "      ('pclass', '1')\n",
            "       ('pclass', '1')\n",
            "        class:  0\n",
            "        class:  0\n",
            "       ('pclass', '3')\n",
            "        class:  0\n",
            "        class:  0\n",
            "      ('age', 35)\n",
            "       ('age', 29)\n",
            "        class:  0\n",
            "        ('pclass', '3')\n",
            "         class:  0\n",
            "         class:  0\n",
            "       ('pclass', '1')\n",
            "        class:  0\n",
            "        class:  0\n"
          ]
        }
      ]
    },
    {
      "cell_type": "markdown",
      "source": [
        "Als je goed kijkt kan je hier zien dat we heel vaak splits maken die onnodig zijn (namelijk als beide classes hetzelfde zijn). Zie onderaan de bonus opdrachten om hier wat aan te doen.\n",
        "\n",
        "Hier onder staat de code om je gemaakte tree te evalueren, doe je het beter dan een willekeurige gok (50%)?"
      ],
      "metadata": {
        "id": "2DMugcVeXomT"
      }
    },
    {
      "cell_type": "code",
      "source": [
        "def predict(node, row):\n",
        "  go_left = None\n",
        "  if type(node['value']) is str:\n",
        "    go_left = row[node['feature_index']] == node['value']\n",
        "  else:\n",
        "    go_left = row[node['feature_index']] < node['value']\n",
        "\n",
        "  if go_left:\n",
        "    if isinstance(node['left'], dict):\n",
        "      return predict(node['left'], row)\n",
        "    else:\n",
        "      return node['left']\n",
        "  else:\n",
        "    if isinstance(node['right'], dict):\n",
        "      return predict(node['right'], row)\n",
        "    else:\n",
        "      return node['right']\n",
        "\n",
        "\n",
        "def accuracy_metric(actual, predicted):\n",
        "\tcorrect = 0\n",
        "\tfor i in range(len(actual)):\n",
        "\t\tif actual[i] == predicted[i]:\n",
        "\t\t\tcorrect += 1\n",
        "\treturn correct / float(len(actual)) * 100.0\n",
        "\n",
        "def evaluate_algorithm(tree, test):\n",
        "  actual = list(test[:,-1])\n",
        "  predictions = list()\n",
        "  for row in test:\n",
        "    prediction = predict(tree, row)\n",
        "    predictions.append(prediction)\n",
        "\n",
        "  return accuracy_metric(actual, predictions)\n",
        "\n",
        "\n",
        "tree = decision_tree(train[:300])\n",
        "\n",
        "\n",
        "print(f\"Je hebt een score van {evaluate_algorithm(tree, test)}% behaald, is dat beter dan een willekeurige gok? Dan ben je geslaagd!\")\n"
      ],
      "metadata": {
        "id": "HsucaRytHsQ9",
        "outputId": "a681d6ab-c666-4d2d-eaf2-c05cc6f9ca5d",
        "colab": {
          "base_uri": "https://localhost:8080/"
        }
      },
      "execution_count": 389,
      "outputs": [
        {
          "output_type": "stream",
          "name": "stdout",
          "text": [
            "Je hebt een score van 80.0% behaald, is dat beter dan een willekeurige gok? Dan ben je geslaagd!\n"
          ]
        }
      ]
    }
  ],
  "metadata": {
    "kernelspec": {
      "display_name": "base",
      "language": "python",
      "name": "python3"
    },
    "language_info": {
      "codemirror_mode": {
        "name": "ipython",
        "version": 3
      },
      "file_extension": ".py",
      "mimetype": "text/x-python",
      "name": "python",
      "nbconvert_exporter": "python",
      "pygments_lexer": "ipython3",
      "version": "3.9.12"
    },
    "orig_nbformat": 4,
    "vscode": {
      "interpreter": {
        "hash": "c5dfe12ad8e69e0451f3288037ae5ba6de11d0ef3c1ed45324ce0705eef92596"
      }
    },
    "colab": {
      "provenance": []
    }
  },
  "nbformat": 4,
  "nbformat_minor": 0
}