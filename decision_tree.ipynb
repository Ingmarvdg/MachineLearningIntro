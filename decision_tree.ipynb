{
  "cells": [
    {
      "cell_type": "markdown",
      "metadata": {
        "id": "t32lxJ0myPmf"
      },
      "source": [
        "# Introductie\n",
        "\n",
        "In dit notebook leer je stap voor stap hoe je een decision tree kan implementeren. Er zijn een hoop manieren, maar we kijken vandaag naar een implementatie van Jason Brownlee, schrijver van o.a. Python en Deep Learning boeken.\n",
        "\n",
        "We gebruiken de Titanic dataset, en ons doel is om te voorspellen of een persoon de ramp heeft overleefd op basis van een aantal eigenschappen.\n",
        "\n",
        "We doen de implementatie op basis van numpy, een python package voor razendsnelle berekeningen."
      ]
    },
    {
      "cell_type": "code",
      "execution_count": 2,
      "metadata": {
        "colab": {
          "base_uri": "https://localhost:8080/"
        },
        "id": "sbJejgUM_5cj",
        "outputId": "b8520429-684a-44c9-857f-5fb7ebeb1fee"
      },
      "outputs": [
        {
          "name": "stdout",
          "output_type": "stream",
          "text": [
            "Index(['pclass', 'sex', 'age', 'deck', 'alone', 'survived'], dtype='object')\n"
          ]
        }
      ],
      "source": [
        "# dit zijn alle imports en voorbereiding van de dataset, hier hoef je niks aan te veranderen.\n",
        "\n",
        "import seaborn as sns\n",
        "from random import seed\n",
        "from random import randrange\n",
        "from csv import reader\n",
        "import numpy as np\n",
        "\n",
        "columns = [\"pclass\", \"sex\", \"age\", \"deck\", \"alone\", \"survived\"]\n",
        "\n",
        "df = sns.load_dataset('titanic')[columns]\n",
        "df[\"age\"] = df[\"age\"].fillna(np.mean(df[\"age\"])).astype(int)\n",
        "df[\"deck\"] = df[\"deck\"].astype(str).replace(\"nan\", \"O\")\n",
        "df[\"pclass\"] = df[\"pclass\"].astype(str).replace(\"nan\", \"O\")\n",
        "\n",
        "print(df.columns)\n",
        "train = df[:-100].values\n",
        "test = df[-100:].values"
      ]
    },
    {
      "cell_type": "markdown",
      "metadata": {
        "id": "NzfvnAaEzWg_"
      },
      "source": [
        "# Gini Index\n",
        "\n",
        "Als eerste hebben we een metric nodig die aangeeft hoe goed een split in de decision tree is. We gebruiken hiervoor de gini index. Hier is p1 de kans op class 1, en p2 de kans op class 2.\n",
        "\n",
        "$$\n",
        "1 – (p₁)² – (p₂)²\n",
        "$$\n",
        "\n",
        "\n",
        "We kunnen dit als volgt implementeren:\n",
        "\n",
        "1. bereken voor elke class het percentage hoevaak deze voorkomt.\n",
        "2. doe elk percentage in het kwadraat en tel dit bij elkaar op.\n",
        "\n",
        "BONUS: bedenk een implementatie die niet voor 2 classes, maar voor *n* classes werkt."
      ]
    },
    {
      "cell_type": "code",
      "execution_count": 11,
      "metadata": {
        "colab": {
          "base_uri": "https://localhost:8080/",
          "height": 340
        },
        "id": "ia3OoPpD2Bkn",
        "outputId": "3febfd37-0c9f-4ab7-ff54-7e40dd3002f2"
      },
      "outputs": [
        {
          "ename": "TypeError",
          "evalue": "ignored",
          "output_type": "error",
          "traceback": [
            "\u001b[0;31m---------------------------------------------------------------------------\u001b[0m",
            "\u001b[0;31mTypeError\u001b[0m                                 Traceback (most recent call last)",
            "\u001b[0;32m<ipython-input-11-16e572f0f47e>\u001b[0m in \u001b[0;36m<cell line: 7>\u001b[0;34m()\u001b[0m\n\u001b[1;32m      5\u001b[0m   \u001b[0;32mreturn\u001b[0m \u001b[0;36m1\u001b[0m \u001b[0;34m-\u001b[0m \u001b[0mp1\u001b[0m \u001b[0;34m-\u001b[0m \u001b[0mp2\u001b[0m \u001b[0;31m# lager is beter\u001b[0m\u001b[0;34m\u001b[0m\u001b[0;34m\u001b[0m\u001b[0m\n\u001b[1;32m      6\u001b[0m \u001b[0;34m\u001b[0m\u001b[0m\n\u001b[0;32m----> 7\u001b[0;31m \u001b[0mprint\u001b[0m\u001b[0;34m(\u001b[0m\u001b[0mgini_index\u001b[0m\u001b[0;34m(\u001b[0m\u001b[0mtrain\u001b[0m\u001b[0;34m[\u001b[0m\u001b[0;34m:\u001b[0m\u001b[0;36m10\u001b[0m\u001b[0;34m,\u001b[0m\u001b[0;34m-\u001b[0m\u001b[0;36m1\u001b[0m\u001b[0;34m]\u001b[0m\u001b[0;34m)\u001b[0m\u001b[0;34m)\u001b[0m\u001b[0;34m\u001b[0m\u001b[0;34m\u001b[0m\u001b[0m\n\u001b[0m",
            "\u001b[0;32m<ipython-input-11-16e572f0f47e>\u001b[0m in \u001b[0;36mgini_index\u001b[0;34m(labels)\u001b[0m\n\u001b[1;32m      3\u001b[0m   \u001b[0mp2\u001b[0m \u001b[0;34m=\u001b[0m \u001b[0mNotImplementedError\u001b[0m\u001b[0;34m\u001b[0m\u001b[0;34m\u001b[0m\u001b[0m\n\u001b[1;32m      4\u001b[0m \u001b[0;34m\u001b[0m\u001b[0m\n\u001b[0;32m----> 5\u001b[0;31m   \u001b[0;32mreturn\u001b[0m \u001b[0;36m1\u001b[0m \u001b[0;34m-\u001b[0m \u001b[0mp1\u001b[0m \u001b[0;34m-\u001b[0m \u001b[0mp2\u001b[0m \u001b[0;31m# lager is beter\u001b[0m\u001b[0;34m\u001b[0m\u001b[0;34m\u001b[0m\u001b[0m\n\u001b[0m\u001b[1;32m      6\u001b[0m \u001b[0;34m\u001b[0m\u001b[0m\n\u001b[1;32m      7\u001b[0m \u001b[0mprint\u001b[0m\u001b[0;34m(\u001b[0m\u001b[0mgini_index\u001b[0m\u001b[0;34m(\u001b[0m\u001b[0mtrain\u001b[0m\u001b[0;34m[\u001b[0m\u001b[0;34m:\u001b[0m\u001b[0;36m10\u001b[0m\u001b[0;34m,\u001b[0m\u001b[0;34m-\u001b[0m\u001b[0;36m1\u001b[0m\u001b[0;34m]\u001b[0m\u001b[0;34m)\u001b[0m\u001b[0;34m)\u001b[0m\u001b[0;34m\u001b[0m\u001b[0;34m\u001b[0m\u001b[0m\n",
            "\u001b[0;31mTypeError\u001b[0m: unsupported operand type(s) for -: 'int' and 'type'"
          ]
        }
      ],
      "source": [
        "def gini_index(labels: np.ndarray):\n",
        "  p1 = NotImplementedError\n",
        "  p2 = NotImplementedError\n",
        "\n",
        "  return 1 - p1 - p2 # lager is beter\n",
        "\n",
        "print(gini_index(train[:10,-1]))\n",
        "\n",
        "# checkt of je uitkomst goed is.\n",
        "assert pytest.approx(gini_index(train[:,-1]), 0.1) == 0.47"
      ]
    },
    {
      "cell_type": "markdown",
      "metadata": {
        "id": "m9aKtg5I3PJs"
      },
      "source": [
        "# Weighted Gini Index\n",
        "\n",
        "We kunnen de data splitsen in twee groepen door een feature te kiezen en een waarde van die feature. Bijvoorbeeld 'geslacht = man' of 'leeftijd < 18'.\n",
        "\n",
        "Als je in 1 groep alle overlevenden hebt, en in de andere alle niet overlevenden heb je volgens de gini index een perfecte score van 0. Als je split nog steeds willekeurig is dan heb je een score van 0.5 (in het geval van een binair probleem).\n",
        "\n",
        "We willen nu niet de gini index van een split weten, maar de gewogen gini index van twee splits.\n",
        "\n",
        "Dit kunnen we als volgt doen:\n",
        "1. Bereken de gini index voor beide groepen.\n",
        "2. Bereken de relatieve grootte voor beide groepen (als je een groep van 4 en een groep van 16 hebt, is het 0.2 en 0.8).\n",
        "3. Vermenigvuldig de gini index met de relatieve grootte en tel deze bij elkaar op.\n",
        "\n",
        "BONUS: voeg iets toe dat voorkomt dat we per ongeluk door 0 delen. Als een groep leeg is geef dan een perfecte score."
      ]
    },
    {
      "cell_type": "code",
      "execution_count": 4,
      "metadata": {
        "colab": {
          "base_uri": "https://localhost:8080/"
        },
        "id": "M-KIMirP_5c4",
        "outputId": "a8422648-d11a-42fd-887c-164c0ff6e935"
      },
      "outputs": [
        {
          "name": "stdout",
          "output_type": "stream",
          "text": [
            "NotImplemented\n"
          ]
        }
      ],
      "source": [
        "def weighted_gini_index(group_a, group_b):\n",
        "  weighted_gini = NotImplemented\n",
        "\n",
        "\n",
        "  return weighted_gini\n",
        "\n",
        "# checkt of je uitkomst goed is.\n",
        "assert weighted_gini_index(train[:10,-1], train[10:20, -1]) == 0.5"
      ]
    },
    {
      "cell_type": "markdown",
      "metadata": {
        "id": "uWpsdrTq5sno"
      },
      "source": [
        "# Een split maken\n",
        "\n",
        "Het splitsen van data doen we op basis van een feature en een waarde van die feature. We hebben numerieke features (leeftijd) en categorieen (geslacht).\n",
        "\n",
        "Implementeer eerst een stukje code voor numerieke features. De data die lager is dan de opgegeven waarde returnen we eerst, als het hoger is dan returnen we dat als tweede.\n",
        "\n",
        "Deze tweesplitsing representeert de takken van onze decision tree."
      ]
    },
    {
      "cell_type": "code",
      "execution_count": 7,
      "metadata": {
        "colab": {
          "base_uri": "https://localhost:8080/"
        },
        "id": "nUNpKPqN_5c6",
        "outputId": "f9b7dcc2-1592-4f12-ba71-21e2825285ba"
      },
      "outputs": [
        {
          "name": "stdout",
          "output_type": "stream",
          "text": [
            "(NotImplemented, NotImplemented)\n"
          ]
        }
      ],
      "source": [
        "def test_split(data, feature_index, value):\n",
        "  # gebruik de feature_index om de juiste kolom te kiezen in de data.\n",
        "  left = NotImplemented\n",
        "  right = NotImplemented\n",
        "\n",
        "  return left, right\n",
        "\n",
        "assert len(test_split(train[:10], 2, 20)[1]) == 8"
      ]
    },
    {
      "cell_type": "markdown",
      "metadata": {
        "id": "TK6h5h6D-5-U"
      },
      "source": [
        "Upgrade nu datzelfde stukje code. Als het type van value een string is, dan moet de data die die value heeft naar links, en de rest naar rechts."
      ]
    },
    {
      "cell_type": "code",
      "execution_count": 1,
      "metadata": {
        "colab": {
          "base_uri": "https://localhost:8080/"
        },
        "id": "udfLwxQO_Jsn",
        "outputId": "2899c64d-5fd7-4543-d0a1-793f37f41038"
      },
      "outputs": [
        {
          "ename": "ImportError",
          "evalue": "cannot import name 'NotImplementedType' from 'types' (c:\\Users\\ingmar\\miniconda3\\lib\\types.py)",
          "output_type": "error",
          "traceback": [
            "\u001b[1;31m---------------------------------------------------------------------------\u001b[0m",
            "\u001b[1;31mImportError\u001b[0m                               Traceback (most recent call last)",
            "\u001b[1;32mc:\\Users\\ingmar\\Projects\\MachineLearningIntro\\decision_tree.ipynb Cell 10\u001b[0m line \u001b[0;36m<cell line: 1>\u001b[1;34m()\u001b[0m\n\u001b[1;32m----> <a href='vscode-notebook-cell:/c%3A/Users/ingmar/Projects/MachineLearningIntro/decision_tree.ipynb#X40sZmlsZQ%3D%3D?line=0'>1</a>\u001b[0m \u001b[39mfrom\u001b[39;00m \u001b[39mtypes\u001b[39;00m \u001b[39mimport\u001b[39;00m NotImplementedType\n\u001b[0;32m      <a href='vscode-notebook-cell:/c%3A/Users/ingmar/Projects/MachineLearningIntro/decision_tree.ipynb#X40sZmlsZQ%3D%3D?line=1'>2</a>\u001b[0m \u001b[39mdef\u001b[39;00m \u001b[39mtest_split\u001b[39m(data, feature_index, value):\n\u001b[0;32m      <a href='vscode-notebook-cell:/c%3A/Users/ingmar/Projects/MachineLearningIntro/decision_tree.ipynb#X40sZmlsZQ%3D%3D?line=2'>3</a>\u001b[0m   \u001b[39mif\u001b[39;00m \u001b[39mtype\u001b[39m(value) \u001b[39mis\u001b[39;00m \u001b[39mstr\u001b[39m:\n",
            "\u001b[1;31mImportError\u001b[0m: cannot import name 'NotImplementedType' from 'types' (c:\\Users\\ingmar\\miniconda3\\lib\\types.py)"
          ]
        }
      ],
      "source": [
        "from types import NotImplementedType\n",
        "def test_split(data, feature_index, value):\n",
        "  if type(value) is str:\n",
        "    left, right = NotImplemented, NotImplemented\n",
        "  else:\n",
        "    left, right = NotImplemented, NotImplemented\n",
        "\n",
        "  return left, right\n",
        "\n",
        "assert len(test_split(train[:10], 1, \"female\")[1]) == 5"
      ]
    },
    {
      "cell_type": "markdown",
      "metadata": {
        "id": "P-wBYxxN_iwQ"
      },
      "source": [
        "# De beste split vinden\n",
        "\n",
        "Hierboven hebben we alle ingredienten voorbereid om de beste split te vinden. We moeten voor de hele dataset elke mogelijke split identificeren, deze evalueren, en uiteindelijk de beste opslaan.\n",
        "\n",
        "Efficient? Nee. Effectief? Ja.\n",
        "\n",
        "Een split representeren we als een dictionary met de volgende keys:\n",
        "1. de index van de feature.\n",
        "2. de waarde waar we gaan splitsen.\n",
        "3. de groepen na de split (dit zijn de twee takken waar we het eerder over hadden).\n",
        "\n",
        "Implementeer hieronder de get split functie. Ik heb hieronder het algoritme omschreven:\n",
        "\n",
        "```\n",
        "Voor elke feature:\n",
        "  Identificeer elke mogelijke split optie.\n",
        "  Voor elke split optie:\n",
        "    Maak een split.\n",
        "    Bereken de weighted gini.\n",
        "    Als de gini score de beste tot nu toe is:\n",
        "      Sla de waardes voor de split op.\n",
        "      Continue loop\n",
        "```\n",
        "\n",
        "\n"
      ]
    },
    {
      "cell_type": "code",
      "execution_count": 2,
      "metadata": {
        "colab": {
          "base_uri": "https://localhost:8080/"
        },
        "id": "mNT4ZrOQ_5c7",
        "outputId": "87820799-19ca-4a62-cb17-c614aec18c46"
      },
      "outputs": [
        {
          "ename": "NameError",
          "evalue": "name 'train' is not defined",
          "output_type": "error",
          "traceback": [
            "\u001b[1;31m---------------------------------------------------------------------------\u001b[0m",
            "\u001b[1;31mNameError\u001b[0m                                 Traceback (most recent call last)",
            "\u001b[1;32mc:\\Users\\ingmar\\Projects\\MachineLearningIntro\\decision_tree.ipynb Cell 12\u001b[0m line \u001b[0;36m<cell line: 11>\u001b[1;34m()\u001b[0m\n\u001b[0;32m      <a href='vscode-notebook-cell:/c%3A/Users/ingmar/Projects/MachineLearningIntro/decision_tree.ipynb#X42sZmlsZQ%3D%3D?line=6'>7</a>\u001b[0m   \u001b[39mNotImplemented\u001b[39m\n\u001b[0;32m      <a href='vscode-notebook-cell:/c%3A/Users/ingmar/Projects/MachineLearningIntro/decision_tree.ipynb#X42sZmlsZQ%3D%3D?line=8'>9</a>\u001b[0m   \u001b[39mreturn\u001b[39;00m {\u001b[39m'\u001b[39m\u001b[39mfeature_index\u001b[39m\u001b[39m'\u001b[39m: best_index, \u001b[39m'\u001b[39m\u001b[39mvalue\u001b[39m\u001b[39m'\u001b[39m: best_value, \u001b[39m'\u001b[39m\u001b[39mgroups\u001b[39m\u001b[39m'\u001b[39m: best_groups, \u001b[39m'\u001b[39m\u001b[39mgini\u001b[39m\u001b[39m'\u001b[39m: best_score}\n\u001b[1;32m---> <a href='vscode-notebook-cell:/c%3A/Users/ingmar/Projects/MachineLearningIntro/decision_tree.ipynb#X42sZmlsZQ%3D%3D?line=10'>11</a>\u001b[0m \u001b[39massert\u001b[39;00m \u001b[39mtype\u001b[39m(get_split(train[:\u001b[39m10\u001b[39m])[\u001b[39m\"\u001b[39m\u001b[39mbest_groups\u001b[39m\u001b[39m\"\u001b[39m][\u001b[39m0\u001b[39m]) \u001b[39mis\u001b[39;00m np\u001b[39m.\u001b[39mndarray\n\u001b[0;32m     <a href='vscode-notebook-cell:/c%3A/Users/ingmar/Projects/MachineLearningIntro/decision_tree.ipynb#X42sZmlsZQ%3D%3D?line=11'>12</a>\u001b[0m \u001b[39massert\u001b[39;00m get_split(train[:\u001b[39m10\u001b[39m])[\u001b[39m\"\u001b[39m\u001b[39mfeature_index\u001b[39m\u001b[39m\"\u001b[39m] \u001b[39m==\u001b[39m \u001b[39m1\u001b[39m\n\u001b[0;32m     <a href='vscode-notebook-cell:/c%3A/Users/ingmar/Projects/MachineLearningIntro/decision_tree.ipynb#X42sZmlsZQ%3D%3D?line=12'>13</a>\u001b[0m \u001b[39massert\u001b[39;00m get_split(train[:\u001b[39m10\u001b[39m])[\u001b[39m\"\u001b[39m\u001b[39mvalue\u001b[39m\u001b[39m\"\u001b[39m] \u001b[39m==\u001b[39m \u001b[39m\"\u001b[39m\u001b[39mfemale\u001b[39m\u001b[39m\"\u001b[39m\n",
            "\u001b[1;31mNameError\u001b[0m: name 'train' is not defined"
          ]
        }
      ],
      "source": [
        "def get_split(dataset):\n",
        "  best_score = 999\n",
        "  best_value = None\n",
        "  best_index = None\n",
        "  best_groups = None\n",
        "\n",
        "  NotImplemented\n",
        "\n",
        "  return {'feature_index': best_index, 'value': best_value, 'groups': best_groups, 'gini': best_score}\n",
        "\n",
        "assert type(get_split(train[:10])[\"groups\"][0]) is np.ndarray\n",
        "assert type(get_split(train[:10])[\"groups\"][1]) is np.ndarray\n",
        "assert get_split(train[:10])[\"feature_index\"] == 1\n",
        "assert get_split(train[:10])[\"value\"] == \"female\"\n",
        "assert get_split(train[:10])[\"gini\"] == 0.0"
      ]
    },
    {
      "cell_type": "markdown",
      "metadata": {
        "id": "KH_N3XcsEjv7"
      },
      "source": [
        "# De decision tree\n",
        "\n",
        "Het is ons net gelukt om onze eerste split te doen, nu gewoon dit herhalen toch?\n",
        "\n",
        "Om dit te blijven herhalen tot we klaar zijn hebben we een recursief algoritme nodig, dit is in essentie een functie die zichzelf aanroept tot het doel is bereikt.\n",
        "\n",
        "We hebben ons doel bereikt als we geen verdere split meer kan maken. Dit kan om twee redenen:\n",
        "1. Als er minder dan twee datapunten zijn.\n",
        "2. De hele dataset hoort bij een enkele class (gini score van 0).\n",
        "\n",
        "Als we dit doel hebben bereikt willen we een 'leaf node' maken die aangeeft welke class moet worden gekozen.\n"
      ]
    },
    {
      "cell_type": "markdown",
      "metadata": {
        "id": "kGar1DjhHG-p"
      },
      "source": [
        "We weten nu wanneer we moeten stoppen en wat we dan moeten doen, dus laten we onze 'to leaf' functie implementeren.\n",
        "\n",
        "De 'to leaf' functie moet de meest voorkomende class in de dataset teruggeven.\n",
        "\n",
        "Houd in je achterhoofd dat in de dataset de laatste kolom de class bevat."
      ]
    },
    {
      "cell_type": "code",
      "execution_count": 3,
      "metadata": {
        "colab": {
          "base_uri": "https://localhost:8080/"
        },
        "id": "MEQw1kFOEaXl",
        "outputId": "f67fdca9-3350-447b-a46a-0d6abfdbde2d"
      },
      "outputs": [
        {
          "ename": "NameError",
          "evalue": "name 'train' is not defined",
          "output_type": "error",
          "traceback": [
            "\u001b[1;31m---------------------------------------------------------------------------\u001b[0m",
            "\u001b[1;31mNameError\u001b[0m                                 Traceback (most recent call last)",
            "\u001b[1;32mc:\\Users\\ingmar\\Projects\\MachineLearningIntro\\decision_tree.ipynb Cell 15\u001b[0m line \u001b[0;36m<cell line: 5>\u001b[1;34m()\u001b[0m\n\u001b[0;32m      <a href='vscode-notebook-cell:/c%3A/Users/ingmar/Projects/MachineLearningIntro/decision_tree.ipynb#X45sZmlsZQ%3D%3D?line=1'>2</a>\u001b[0m   most_common_class \u001b[39m=\u001b[39m \u001b[39mNotImplemented\u001b[39m\n\u001b[0;32m      <a href='vscode-notebook-cell:/c%3A/Users/ingmar/Projects/MachineLearningIntro/decision_tree.ipynb#X45sZmlsZQ%3D%3D?line=2'>3</a>\u001b[0m   \u001b[39mreturn\u001b[39;00m most_common_class\n\u001b[1;32m----> <a href='vscode-notebook-cell:/c%3A/Users/ingmar/Projects/MachineLearningIntro/decision_tree.ipynb#X45sZmlsZQ%3D%3D?line=4'>5</a>\u001b[0m \u001b[39massert\u001b[39;00m to_leaf(train[:\u001b[39m50\u001b[39m]) \u001b[39m==\u001b[39m \u001b[39m0\u001b[39m\n",
            "\u001b[1;31mNameError\u001b[0m: name 'train' is not defined"
          ]
        }
      ],
      "source": [
        "def to_leaf(dataset):\n",
        "  most_common_class = NotImplemented\n",
        "  return most_common_class\n",
        "\n",
        "assert to_leaf(train[:50]) == 0"
      ]
    },
    {
      "cell_type": "markdown",
      "metadata": {
        "id": "d1RnGzIKGc4P"
      },
      "source": [
        "Laten we nu de 'grow tree' functie schrijven. Dit wordt een recursieve functie, wat dus betekent dat we in de 'grow tree' functie NOG een keer de 'grow tree' functie gaan aanroepen.\n",
        "\n",
        "Het grow tree algoritme moet de volgende stappen gaan nemen:\n",
        "\n",
        "1. Controleer of 1 van de twee datasets in de node leeg is, maak dan een terminal node van beide kanten met de gecombineerde data.\n",
        "2. Als de linker dataset minder dan twee datapunten heeft, maak dan een terminal node van de linker dataset.\n",
        "3.Als de linker dataset twee of meer datapunten heeft, maak dan weer een nieuwe split met 'get_split' en groei op het resultaat je decision tree verder.\n",
        "4. Doe stap 2 en 3 ook voor de rechter dataset.\n",
        "\n",
        "Als de node leeg is kan je stoppen met de recursie, dat doe je met behulp van een lege return (dan stopt de functie)."
      ]
    },
    {
      "cell_type": "markdown",
      "metadata": {
        "id": "xF0H5W-JWd1y"
      },
      "source": [
        "Naast alles wat we hierboven gezegd hebben gaan we ook de diepte van de tree bijhouden. Dit kan heel simpel, elke keer als je 'grow_tree' opnieuw aanroept, geeft dan de huidige diepte + 1 mee. Dit is handig om later de tree te visualiseren."
      ]
    },
    {
      "cell_type": "code",
      "execution_count": 18,
      "metadata": {
        "colab": {
          "base_uri": "https://localhost:8080/",
          "height": 358
        },
        "id": "9QafXRFb_5c-",
        "outputId": "64c157fe-f7b1-40f6-adfa-79e5504c3516"
      },
      "outputs": [
        {
          "ename": "TypeError",
          "evalue": "ignored",
          "output_type": "error",
          "traceback": [
            "\u001b[0;31m---------------------------------------------------------------------------\u001b[0m",
            "\u001b[0;31mTypeError\u001b[0m                                 Traceback (most recent call last)",
            "\u001b[0;32m<ipython-input-18-529a1502986e>\u001b[0m in \u001b[0;36m<cell line: 20>\u001b[0;34m()\u001b[0m\n\u001b[1;32m     18\u001b[0m \u001b[0;34m\u001b[0m\u001b[0m\n\u001b[1;32m     19\u001b[0m \u001b[0mnode\u001b[0m \u001b[0;34m=\u001b[0m \u001b[0mget_split\u001b[0m\u001b[0;34m(\u001b[0m\u001b[0mtrain\u001b[0m\u001b[0;34m[\u001b[0m\u001b[0;34m:\u001b[0m\u001b[0;36m10\u001b[0m\u001b[0;34m]\u001b[0m\u001b[0;34m)\u001b[0m\u001b[0;34m\u001b[0m\u001b[0;34m\u001b[0m\u001b[0m\n\u001b[0;32m---> 20\u001b[0;31m \u001b[0mtree\u001b[0m \u001b[0;34m=\u001b[0m \u001b[0mgrow_tree\u001b[0m\u001b[0;34m(\u001b[0m\u001b[0mnode\u001b[0m\u001b[0;34m,\u001b[0m \u001b[0;36m0\u001b[0m\u001b[0;34m)\u001b[0m\u001b[0;34m\u001b[0m\u001b[0;34m\u001b[0m\u001b[0m\n\u001b[0m\u001b[1;32m     21\u001b[0m \u001b[0mprint\u001b[0m\u001b[0;34m(\u001b[0m\u001b[0mtree\u001b[0m\u001b[0;34m)\u001b[0m\u001b[0;34m\u001b[0m\u001b[0;34m\u001b[0m\u001b[0m\n",
            "\u001b[0;32m<ipython-input-18-529a1502986e>\u001b[0m in \u001b[0;36mgrow_tree\u001b[0;34m(node, depth)\u001b[0m\n\u001b[1;32m      2\u001b[0m \u001b[0;31m# Build a decision tree\u001b[0m\u001b[0;34m\u001b[0m\u001b[0;34m\u001b[0m\u001b[0m\n\u001b[1;32m      3\u001b[0m \u001b[0;32mdef\u001b[0m \u001b[0mgrow_tree\u001b[0m\u001b[0;34m(\u001b[0m\u001b[0mnode\u001b[0m\u001b[0;34m,\u001b[0m \u001b[0mdepth\u001b[0m\u001b[0;34m)\u001b[0m\u001b[0;34m:\u001b[0m\u001b[0;34m\u001b[0m\u001b[0;34m\u001b[0m\u001b[0m\n\u001b[0;32m----> 4\u001b[0;31m     \u001b[0mleft\u001b[0m\u001b[0;34m,\u001b[0m \u001b[0mright\u001b[0m \u001b[0;34m=\u001b[0m \u001b[0mnode\u001b[0m\u001b[0;34m[\u001b[0m\u001b[0;34m\"groups\"\u001b[0m\u001b[0;34m]\u001b[0m\u001b[0;34m\u001b[0m\u001b[0;34m\u001b[0m\u001b[0m\n\u001b[0m\u001b[1;32m      5\u001b[0m \u001b[0;34m\u001b[0m\u001b[0m\n\u001b[1;32m      6\u001b[0m     \u001b[0;31m# maak een leaf van de data in left+right als een van de twee leeg is.\u001b[0m\u001b[0;34m\u001b[0m\u001b[0;34m\u001b[0m\u001b[0m\n",
            "\u001b[0;31mTypeError\u001b[0m: cannot unpack non-iterable NoneType object"
          ]
        }
      ],
      "source": [
        "from token import RIGHTSHIFT\n",
        "# Build a decision tree\n",
        "def grow_tree(node, depth):\n",
        "    left, right = node[\"groups\"]\n",
        "\n",
        "    # maak een leaf van de data in left+right als een van de twee leeg is.\n",
        "    node[\"left\"] = NotImplemented\n",
        "    node[\"right\"] = NotImplemented\n",
        "\n",
        "    # als links genoeg waardes heeft, maak een nieuwe split in de node en groei de decision tree vanaf daar verder.\n",
        "    # maak anders een leaf.\n",
        "    node[\"left\"] = NotImplemented\n",
        "    # maak anders een leaf.\n",
        "\n",
        "\n",
        "    # doe dat ook voor rechts\n",
        "    node[\"right\"] = NotImplemented\n",
        "\n",
        "node = get_split(train[:10])\n",
        "tree = grow_tree(node, 0)"
      ]
    },
    {
      "cell_type": "markdown",
      "metadata": {
        "id": "mkLzEQOVPzRB"
      },
      "source": [
        "Als het gelukt is zou je onderstaande stukje code moeten kunnen runnen en zou je een grafische weergave van je tree moeten zien."
      ]
    },
    {
      "cell_type": "code",
      "execution_count": null,
      "metadata": {
        "colab": {
          "base_uri": "https://localhost:8080/"
        },
        "id": "SDifQMMBQMrk",
        "outputId": "e1bcfe7a-5924-4753-87f7-807cab767c71"
      },
      "outputs": [
        {
          "name": "stdout",
          "output_type": "stream",
          "text": [
            " ('sex', 'female')\n",
            "  ('alone', True)\n",
            "   ('deck', 'O')\n",
            "    ('age', 18)\n",
            "     ('pclass', '2')\n",
            "      class:  1\n",
            "      class:  0\n",
            "     ('age', 27)\n",
            "      class:  0\n",
            "      ('pclass', '2')\n",
            "       class:  0\n",
            "       ('age', 31)\n",
            "        class:  1\n",
            "        ('age', 38)\n",
            "         class:  0\n",
            "         class:  0\n",
            "    ('pclass', '1')\n",
            "     ('pclass', '1')\n",
            "      class:  1\n",
            "      class:  1\n",
            "     class:  1\n",
            "   ('age', 15)\n",
            "    class:  0\n",
            "    ('pclass', '1')\n",
            "     class:  1\n",
            "     ('pclass', '2')\n",
            "      class:  1\n",
            "      ('pclass', '3')\n",
            "       class:  1\n",
            "       class:  1\n",
            "  ('deck', 'A')\n",
            "   class:  1\n",
            "   ('deck', 'D')\n",
            "    class:  1\n",
            "    ('pclass', '2')\n",
            "     ('age', 35)\n",
            "      class:  1\n",
            "      class:  0\n",
            "     ('alone', True)\n",
            "      ('pclass', '1')\n",
            "       ('pclass', '1')\n",
            "        class:  0\n",
            "        class:  0\n",
            "       ('pclass', '3')\n",
            "        class:  0\n",
            "        class:  0\n",
            "      ('age', 35)\n",
            "       ('age', 29)\n",
            "        class:  0\n",
            "        ('pclass', '3')\n",
            "         class:  0\n",
            "         class:  0\n",
            "       ('pclass', '1')\n",
            "        class:  0\n",
            "        class:  0\n"
          ]
        }
      ],
      "source": [
        "def decision_tree(train):\n",
        " root = get_split(train)\n",
        " grow_tree(root, depth=0)\n",
        " return root\n",
        "\n",
        "# Print a decision tree\n",
        "def print_tree(node,col_table, depth=1):\n",
        "  if isinstance(node, dict):\n",
        "\n",
        "    col_name = col_table[node['feature_index']]\n",
        "\n",
        "    print(\" \"  * depth + f\"{col_name , node['value']}\")\n",
        "    print_tree(node['left'], col_table, depth+1)\n",
        "    print_tree(node['right'], col_table, depth+1)\n",
        "  else:\n",
        "    print(\" \" * depth + \"class: \", node)\n",
        "\n",
        "tree = decision_tree(train[0:50])\n",
        "print_tree(tree, columns, depth=1)"
      ]
    },
    {
      "cell_type": "markdown",
      "metadata": {
        "id": "2DMugcVeXomT"
      },
      "source": [
        "Als je goed kijkt kan je hier zien dat we heel vaak splits maken die onnodig zijn (namelijk als beide classes hetzelfde zijn). Zie onderaan de bonus opdrachten om hier wat aan te doen.\n",
        "\n",
        "Hier onder staat de code om je gemaakte tree te evalueren, doe je het beter dan een willekeurige gok (50%)?"
      ]
    },
    {
      "cell_type": "code",
      "execution_count": 20,
      "metadata": {
        "colab": {
          "base_uri": "https://localhost:8080/",
          "height": 251
        },
        "id": "HsucaRytHsQ9",
        "outputId": "8a74f54d-b7b2-4203-932e-b4e49286fc1c"
      },
      "outputs": [
        {
          "ename": "NameError",
          "evalue": "ignored",
          "output_type": "error",
          "traceback": [
            "\u001b[0;31m---------------------------------------------------------------------------\u001b[0m",
            "\u001b[0;31mNameError\u001b[0m                                 Traceback (most recent call last)",
            "\u001b[0;32m<ipython-input-20-931a1ad0b66a>\u001b[0m in \u001b[0;36m<cell line: 37>\u001b[0;34m()\u001b[0m\n\u001b[1;32m     35\u001b[0m \u001b[0;34m\u001b[0m\u001b[0m\n\u001b[1;32m     36\u001b[0m \u001b[0;34m\u001b[0m\u001b[0m\n\u001b[0;32m---> 37\u001b[0;31m \u001b[0mtree\u001b[0m \u001b[0;34m=\u001b[0m \u001b[0mdecision_tree\u001b[0m\u001b[0;34m(\u001b[0m\u001b[0mtrain\u001b[0m\u001b[0;34m)\u001b[0m\u001b[0;34m\u001b[0m\u001b[0;34m\u001b[0m\u001b[0m\n\u001b[0m\u001b[1;32m     38\u001b[0m \u001b[0;34m\u001b[0m\u001b[0m\n\u001b[1;32m     39\u001b[0m \u001b[0;34m\u001b[0m\u001b[0m\n",
            "\u001b[0;31mNameError\u001b[0m: name 'decision_tree' is not defined"
          ]
        }
      ],
      "source": [
        "def predict(node, row):\n",
        "  go_left = None\n",
        "  if type(node['value']) is str:\n",
        "    go_left = row[node['feature_index']] == node['value']\n",
        "  else:\n",
        "    go_left = row[node['feature_index']] < node['value']\n",
        "\n",
        "  if go_left:\n",
        "    if isinstance(node['left'], dict):\n",
        "      return predict(node['left'], row)\n",
        "    else:\n",
        "      return node['left']\n",
        "  else:\n",
        "    if isinstance(node['right'], dict):\n",
        "      return predict(node['right'], row)\n",
        "    else:\n",
        "      return node['right']\n",
        "\n",
        "\n",
        "def accuracy_metric(actual, predicted):\n",
        "\tcorrect = 0\n",
        "\tfor i in range(len(actual)):\n",
        "\t\tif actual[i] == predicted[i]:\n",
        "\t\t\tcorrect += 1\n",
        "\treturn correct / float(len(actual)) * 100.0\n",
        "\n",
        "def evaluate_algorithm(tree, test):\n",
        "  actual = list(test[:,-1])\n",
        "  predictions = list()\n",
        "  for row in test:\n",
        "    prediction = predict(tree, row)\n",
        "    predictions.append(prediction)\n",
        "\n",
        "  return accuracy_metric(actual, predictions)\n",
        "\n",
        "\n",
        "tree = decision_tree(train)\n",
        "\n",
        "\n",
        "print(f\"Je hebt een score van {evaluate_algorithm(tree, test)}% behaald, is dat beter dan een willekeurige gok? Dan ben je geslaagd!\")\n"
      ]
    },
    {
      "cell_type": "markdown",
      "metadata": {
        "id": "xLXvSWSbcvuR"
      },
      "source": [
        "# Verbeteringen\n",
        "\n",
        "Je hebt zojuist een zelflerende decision tree gemaakt. Het grote probleem met je decision tree is dat deze te veel leert en te weinig generaliseert. Er zitten veel splits in de tree die niet nodig zijn omdat:\n",
        "1. de split al perfect was, er valt niks meer te winnen.\n",
        "2. de split wordt gemaakt voor slechts 1 datapunt.\n",
        "\n",
        "Vooral vanwege het tweede punt is je decision tree nu erg aan het overfitten, gelukkig zijn er een aantal manieren om dat te voorkomen, kan je die zelf implementeren?\n",
        "\n",
        "1. Voeg een max_depth aan de decision tree toe, kijk of er een max_depth is waarbij je een betere score kan halen.\n",
        "2. Voeg een min_size toe, waarbij een split minimaal min_size datapunten moet hebben, anders wordt het een leaf node. Kijk of je hier mee kan spelen voor een betere score."
      ]
    },
    {
      "cell_type": "code",
      "execution_count": null,
      "metadata": {
        "id": "x99tcpwddxFc"
      },
      "outputs": [],
      "source": []
    }
  ],
  "metadata": {
    "colab": {
      "provenance": []
    },
    "kernelspec": {
      "display_name": "base",
      "language": "python",
      "name": "python3"
    },
    "language_info": {
      "codemirror_mode": {
        "name": "ipython",
        "version": 3
      },
      "file_extension": ".py",
      "mimetype": "text/x-python",
      "name": "python",
      "nbconvert_exporter": "python",
      "pygments_lexer": "ipython3",
      "version": "3.9.12"
    },
    "orig_nbformat": 4,
    "vscode": {
      "interpreter": {
        "hash": "c5dfe12ad8e69e0451f3288037ae5ba6de11d0ef3c1ed45324ce0705eef92596"
      }
    }
  },
  "nbformat": 4,
  "nbformat_minor": 0
}
